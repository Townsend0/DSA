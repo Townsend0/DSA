{
 "cells": [
  {
   "cell_type": "code",
   "execution_count": 150,
   "metadata": {},
   "outputs": [],
   "source": [
    "arr =   [[_,  15, 29,  34, 25,  9],\n",
    "         [15, _,  36, 38, 28,  14],\n",
    "         [20,  36, _,  43, 38, 22],\n",
    "         [34, 38, 43, _,  26, 40],\n",
    "         [25,  28,  38, 26, _,  31],\n",
    "         [9,  14,  22,  40, 31,  _]]"
   ]
  },
  {
   "cell_type": "code",
   "execution_count": 151,
   "metadata": {},
   "outputs": [],
   "source": [
    "def prim(arr):\n",
    "    chosenColumnIndex = [0]\n",
    "    size = len(arr)\n",
    "    for i in range(size - 1):\n",
    "        minimumIndex = [0, 0]\n",
    "        for j in range(size):\n",
    "            if j not in chosenColumnIndex:\n",
    "                for k in chosenColumnIndex:\n",
    "                    if arr[j][k] < arr[minimumIndex[0]][minimumIndex[1]]:\n",
    "                        minimumIndex = [j, k]\n",
    "        chosenColumnIndex.append(minimumIndex[0])\n",
    "        print(arr[minimumIndex[0]][minimumIndex[1]], minimumIndex)"
   ]
  },
  {
   "cell_type": "code",
   "execution_count": 152,
   "metadata": {},
   "outputs": [
    {
     "name": "stdout",
     "output_type": "stream",
     "text": [
      "9 [5, 0]\n",
      "14 [1, 5]\n",
      "20 [2, 0]\n",
      "25 [4, 0]\n",
      "26 [3, 4]\n"
     ]
    },
    {
     "data": {
      "text/plain": [
       "(None, [0, 5, 1, 2, 4, 3])"
      ]
     },
     "execution_count": 152,
     "metadata": {},
     "output_type": "execute_result"
    }
   ],
   "source": [
    "prim(arr), chosenColumnIndex"
   ]
  }
 ],
 "metadata": {
  "kernelspec": {
   "display_name": "Python 3",
   "language": "python",
   "name": "python3"
  },
  "language_info": {
   "codemirror_mode": {
    "name": "ipython",
    "version": 3
   },
   "file_extension": ".py",
   "mimetype": "text/x-python",
   "name": "python",
   "nbconvert_exporter": "python",
   "pygments_lexer": "ipython3",
   "version": "3.12.1"
  }
 },
 "nbformat": 4,
 "nbformat_minor": 2
}
